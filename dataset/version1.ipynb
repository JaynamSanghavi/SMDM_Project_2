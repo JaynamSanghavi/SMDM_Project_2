{
  "cells": [
    {
      "cell_type": "code",
      "execution_count": 49,
      "metadata": {
        "id": "xYcVOYodsLfL"
      },
      "outputs": [],
      "source": [
        "import os\n",
        "import numpy as np\n",
        "import pandas as pd\n",
        "from sklearn.metrics import mean_squared_error"
      ]
    },
    {
      "cell_type": "code",
      "execution_count": 50,
      "metadata": {
        "id": "svfO3GzxtckX"
      },
      "outputs": [],
      "source": [
        "ratingCols = ['user_id', 'movie_id', 'rating', 'unix_timestamp']\n",
        "\n",
        "train_data_1 = pd.read_csv(\"https://raw.githubusercontent.com/JaynamSanghavi/SMDM/master/Assignment/3/ml-100k/ml-100k/u1.base\", sep = \"\\t\", names = ratingCols)\n",
        "test_data_1 = pd.read_csv(\"https://raw.githubusercontent.com/JaynamSanghavi/SMDM/master/Assignment/3/ml-100k/ml-100k/u1.test\", sep = \"\\t\", names = ratingCols)\n",
        "\n",
        "train_data_2 = pd.read_csv(\"https://raw.githubusercontent.com/JaynamSanghavi/SMDM/master/Assignment/3/ml-100k/ml-100k/u2.base\", sep = \"\\t\", names = ratingCols)\n",
        "test_data_2 = pd.read_csv(\"https://raw.githubusercontent.com/JaynamSanghavi/SMDM/master/Assignment/3/ml-100k/ml-100k/u2.test\", sep = \"\\t\", names = ratingCols)\n",
        "\n",
        "train_data_3 = pd.read_csv(\"https://raw.githubusercontent.com/JaynamSanghavi/SMDM/master/Assignment/3/ml-100k/ml-100k/u3.base\", sep = \"\\t\", names = ratingCols)\n",
        "test_data_3 = pd.read_csv(\"https://raw.githubusercontent.com/JaynamSanghavi/SMDM/master/Assignment/3/ml-100k/ml-100k/u3.test\", sep = \"\\t\", names = ratingCols)\n",
        "\n",
        "train_data_4 = pd.read_csv(\"https://raw.githubusercontent.com/JaynamSanghavi/SMDM/master/Assignment/3/ml-100k/ml-100k/u4.base\", sep = \"\\t\", names = ratingCols)\n",
        "test_data_4 = pd.read_csv(\"https://raw.githubusercontent.com/JaynamSanghavi/SMDM/master/Assignment/3/ml-100k/ml-100k/u4.test\", sep = \"\\t\", names = ratingCols)\n",
        "\n",
        "train_data_5 = pd.read_csv(\"https://raw.githubusercontent.com/JaynamSanghavi/SMDM/master/Assignment/3/ml-100k/ml-100k/u5.base\", sep = \"\\t\", names = ratingCols)\n",
        "test_data_5 = pd.read_csv(\"https://raw.githubusercontent.com/JaynamSanghavi/SMDM/master/Assignment/3/ml-100k/ml-100k/u5.test\", sep = \"\\t\", names = ratingCols)\n"
      ]
    },
    {
      "cell_type": "code",
      "execution_count": 51,
      "metadata": {
        "id": "Ui2IEXea9NAd"
      },
      "outputs": [],
      "source": [
        "def calculate_pearson_score(u, i,training_matrix,similarity_training_matrix,normalized_training_matrix):\n",
        "    if i not in training_matrix.columns:\n",
        "        return 2.4\n",
        "    similarity_scores = similarity_training_matrix[u].drop(labels=u)\n",
        "    normalized_ratings = normalized_training_matrix[i].drop(index=u)\n",
        "    similarity_scores.drop(index=normalized_ratings[normalized_ratings.isnull()].index, inplace=True)\n",
        "    normalized_ratings.dropna(inplace=True)\n",
        "    if similarity_scores.isna().all():\n",
        "        return 2.4\n",
        "    total_score = 0\n",
        "    total_weight = 0\n",
        "    for v in normalized_ratings.index:        \n",
        "        if not pd.isna(similarity_scores[v]):\n",
        "            total_score += normalized_ratings[v] * similarity_scores[v]\n",
        "            total_weight += abs(similarity_scores[v])\n",
        "    avg_user_rating = training_matrix.T.mean()[u]\n",
        "    return avg_user_rating + total_score / total_weight"
      ]
    },
    {
      "cell_type": "code",
      "execution_count": null,
      "metadata": {
        "id": "ownjMT0nJKIP"
      },
      "outputs": [],
      "source": [
        "train_matrix_1 = pd.pivot_table(train_data_1, values='rating', index='user_id', columns='movie_id')\n",
        "normalized_training_matrix = train_matrix_1.subtract(train_matrix_1.mean(axis=1), axis=0)\n",
        "similarity_training_matrix = train_data_1.pivot_table(index=\"user_id\", columns=\"movie_id\", values=\"rating\")\n",
        "test_ratings_1 = np.array(test_data_1[\"rating\"])\n",
        "user_item_pairs = zip(test_data_1[\"user_id\"], test_data_1[\"movie_id\"])\n",
        "pred_ratings_1 = np.array([calculate_pearson_score(user_id, item_id,train_matrix_1,normalized_training_matrix_1,similarity_training_matrix_1) for (user_id, item_id) in user_item_pairs])\n",
        "baseline_rating = train_data_1[\"rating\"].mean()\n",
        "baseline_ratings_1 = np.array([baseline_rating for _ in range(test_data_1.shape[0])])\n",
        "rsme_1 = np.sqrt(mean_squared_error(test_ratings_1, pred_ratings_1))\n",
        "print('RMSE value for tested/predicted ratings: ', np.sqrt(mean_squared_error(test_ratings_1, pred_ratings_1)))"
      ]
    },
    {
      "cell_type": "code",
      "execution_count": null,
      "metadata": {
        "id": "VXcXbXyWMZXm"
      },
      "outputs": [],
      "source": [
        "train_matrix_2 = pd.pivot_table(train_data_2, values='rating', index='user_id', columns='movie_id')\n",
        "normalized_training_matrix_2 = train_matrix_2.subtract(train_matrix_2.mean(axis=1), axis=0)\n",
        "similarity_training_matrix_2 = train_data_2.pivot_table(index=\"user_id\", columns=\"movie_id\", values=\"rating\")\n",
        "test_ratings_2 = np.array(test_data_2[\"rating\"])\n",
        "user_item_pairs = zip(test_data_2[\"user_id\"], test_data_2[\"movie_id\"])\n",
        "pred_ratings_2 = np.array([calculate_pearson_score(user_id, item_id,train_matrix_2,normalized_training_matrix,similarity_training_matrix) for (user_id, item_id) in user_item_pairs])\n",
        "baseline_rating = train_data_2[\"rating\"].mean()\n",
        "baseline_ratings_2 = np.array([baseline_rating for _ in range(test_data_2.shape[0])])\n",
        "rsme_2 = np.sqrt(mean_squared_error(test_ratings_2, pred_ratings_2))\n",
        "print('RMSE value for tested/predicted ratings: ', np.sqrt(mean_squared_error(test_ratings_2, pred_ratings_2)))"
      ]
    },
    {
      "cell_type": "code",
      "execution_count": null,
      "metadata": {
        "id": "WPIHUKQdMZ-N"
      },
      "outputs": [],
      "source": [
        "train_matrix_3 = pd.pivot_table(train_data_3, values='rating', index='user_id', columns='movie_id')\n",
        "normalized_training_matrix_3 = train_matrix_3.subtract(train_matrix_3.mean(axis=1), axis=0)\n",
        "similarity_training_matrix_3 = train_data_3.pivot_table(index=\"user_id\", columns=\"movie_id\", values=\"rating\")\n",
        "test_ratings_3 = np.array(test_data_3[\"rating\"])\n",
        "user_item_pairs = zip(test_data_3[\"user_id\"], test_data_3[\"movie_id\"])\n",
        "pred_ratings_3 = np.array([calculate_pearson_score(user_id, item_id,train_matrix_3,normalized_training_matrix,similarity_training_matrix) for (user_id, item_id) in user_item_pairs])\n",
        "baseline_rating = train_data_3[\"rating\"].mean()\n",
        "baseline_ratings_3 = np.array([baseline_rating for _ in range(test_data_3.shape[0])])\n",
        "rsme_3 = np.sqrt(mean_squared_error(test_ratings_3, pred_ratings_3))\n",
        "print('RMSE value for tested/predicted ratings: ', np.sqrt(mean_squared_error(test_ratings_3, pred_ratings_3)))"
      ]
    },
    {
      "cell_type": "code",
      "execution_count": null,
      "metadata": {
        "id": "nkzvOtyvMqkE"
      },
      "outputs": [],
      "source": [
        "train_matrix_4 = pd.pivot_table(train_data_4, values='rating', index='user_id', columns='movie_id')\n",
        "normalized_training_matrix_4 = train_matrix_4.subtract(train_matrix_4.mean(axis=1), axis=0)\n",
        "similarity_training_matrix_4 = train_data_4.pivot_table(index=\"user_id\", columns=\"movie_id\", values=\"rating\")\n",
        "test_ratings_4 = np.array(test_data_4[\"rating\"])\n",
        "user_item_pairs = zip(test_data_4[\"user_id\"], test_data_4[\"movie_id\"])\n",
        "pred_ratings_4 = np.array([calculate_pearson_score(user_id, item_id,train_matrix_4,normalized_training_matrix,similarity_training_matrix) for (user_id, item_id) in user_item_pairs])\n",
        "baseline_rating = train_data_4[\"rating\"].mean()\n",
        "baseline_ratings_4 = np.array([baseline_rating for _ in range(test_data_4.shape[0])])\n",
        "rsme_4 = np.sqrt(mean_squared_error(test_ratings_4, pred_ratings_4))\n",
        "print('RMSE value for tested/predicted ratings: ', np.sqrt(mean_squared_error(test_ratings_4, pred_ratings_4)))"
      ]
    },
    {
      "cell_type": "code",
      "execution_count": null,
      "metadata": {
        "id": "TdR6afeZMrMd"
      },
      "outputs": [],
      "source": [
        "train_matrix_5 = pd.pivot_table(train_data_5, values='rating', index='user_id', columns='movie_id')\n",
        "normalized_training_matrix_5 = train_matrix_5.subtract(train_matrix_5.mean(axis=1), axis=0)\n",
        "similarity_training_matrix_5 = train_data_5.pivot_table(index=\"user_id\", columns=\"movie_id\", values=\"rating\")\n",
        "test_ratings_5 = np.array(test_data_5[\"rating\"])\n",
        "user_item_pairs = zip(test_data_5[\"user_id\"], test_data_5[\"movie_id\"])\n",
        "pred_ratings_5 = np.array([calculate_pearson_score(user_id, item_id,train_matrix_5,normalized_training_matrix,similarity_training_matrix) for (user_id, item_id) in user_item_pairs])\n",
        "baseline_rating = train_data_5[\"rating\"].mean()\n",
        "baseline_ratings_5 = np.array([baseline_rating for _ in range(test_data_5.shape[0])])\n",
        "rsme_5 = np.sqrt(mean_squared_error(test_ratings_5, pred_ratings_5))\n",
        "print('RMSE value for tested/predicted ratings: ', np.sqrt(mean_squared_error(test_ratings_5, pred_ratings_5)))"
      ]
    },
    {
      "cell_type": "code",
      "execution_count": null,
      "metadata": {
        "id": "csBM8husPHSe"
      },
      "outputs": [],
      "source": [
        "print('Avg RMSE value for tested/predicted ratings: ', ((rsme_1 + rsme_2 + rsme_3 + rsme_4 + rsme_5)/5))"
      ]
    },
    {
      "cell_type": "markdown",
      "metadata": {
        "id": "xzy7va4lNBt6"
      },
      "source": [
        "Findings and observations for Pearson's coefficient method:<br>\n",
        "RMSE values for Pearson Coefficient method range from around 1.05 to 1.12. This score indicated that accuracy of the model is not very good. The prediction rating has significant error. And the score are not very high which determine that model is not completly unreliable. <br>\n",
        "The Pearson Coefficient technique uses the user's rating history as well as the similarity between the user and other users to make predictions. One disadvantage is that it may underperform for consumers with a limited rating history or for items with few ratings.<br>\n",
        "This score indicated that Pearson's coefficient may not be best way, there can be other alternative way. "
      ]
    }
  ],
  "metadata": {
    "colab": {
      "provenance": []
    },
    "kernelspec": {
      "display_name": "Python 3",
      "name": "python3"
    },
    "language_info": {
      "name": "python"
    }
  },
  "nbformat": 4,
  "nbformat_minor": 0
}
